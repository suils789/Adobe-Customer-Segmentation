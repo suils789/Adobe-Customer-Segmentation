{
 "cells": [
  {
   "cell_type": "code",
   "execution_count": 1,
   "metadata": {
    "scrolled": true
   },
   "outputs": [],
   "source": [
    "import torch\n",
    "import pandas as pd\n",
    "import numpy as np\n",
    "import os\n",
    "from loss import KL\n",
    "from scipy import sparse\n",
    "\n",
    "# sparse_data = sparse.load_npz('fulldata2.npz').tocsr()[:5000000,:]"
   ]
  },
  {
   "cell_type": "code",
   "execution_count": 2,
   "metadata": {},
   "outputs": [],
   "source": [
    "from torch import nn\n",
    "from torch.autograd import Variable\n",
    "from torch.utils.data import DataLoader\n",
    "from torchvision import transforms\n",
    "from torchvision.datasets import MNIST\n",
    "from torchvision.utils import save_image"
   ]
  },
  {
   "cell_type": "code",
   "execution_count": 3,
   "metadata": {},
   "outputs": [],
   "source": [
    "class autoencoder(nn.Module):\n",
    "    def __init__(self, n):\n",
    "        super(autoencoder, self).__init__()\n",
    "        self.encoder = nn.Sequential(\n",
    "            nn.Linear(n, 1024),\n",
    "            nn.ReLU(True),\n",
    "            nn.Linear(1024, 512),\n",
    "            nn.ReLU(True),\n",
    "            nn.Linear(512, 256),\n",
    "            nn.ReLU(True),\n",
    "            nn.Linear(256, 128),\n",
    "            nn.ReLU(True),\n",
    "            nn.Linear(128, 64),\n",
    "            nn.ReLU(True))\n",
    "        self.decoder = nn.Sequential(\n",
    "            nn.Linear(64, 128),\n",
    "            nn.ReLU(True),\n",
    "            nn.Linear(128, 256),\n",
    "            nn.ReLU(True),\n",
    "            nn.Linear(256, 512),\n",
    "            nn.ReLU(True),\n",
    "            nn.Linear(512, 1024),\n",
    "            nn.ReLU(True),\n",
    "            nn.Linear(1024, n), \n",
    "            nn.Sigmoid())\n",
    "\n",
    "    def forward(self, x):\n",
    "        encoded = self.encoder(x)\n",
    "        decoded = self.decoder(encoded)\n",
    "        return encoded, decoded\n",
    "\n"
   ]
  },
  {
   "cell_type": "code",
   "execution_count": 4,
   "metadata": {},
   "outputs": [],
   "source": [
    "def train(n, dataloader):\n",
    "    learning_rate = 1e-5\n",
    "    num_epochs = 5\n",
    "    device = torch.device(\"cuda:0\" if torch.cuda.is_available() else \"cpu\")\n",
    "    model = autoencoder(n)\n",
    "    model.to(device)\n",
    "    #print(summary(data.shape[1], model))\n",
    "    criterion = nn.BCELoss()\n",
    "    optimizer = torch.optim.Adam(model.parameters(), lr=learning_rate, weight_decay=1e-5)\n",
    "    # optimizer = torch.optim.SGD(model.parameters(), lr=learning_rate, momentum=0.9)\n",
    "\n",
    "    losses = []\n",
    "    for epoch in range(num_epochs):\n",
    "        loss_ = 0\n",
    "        count = 0\n",
    "        kl_loss_ = 0\n",
    "        for data in dataloader:\n",
    "            img = Variable(data).to(device)\n",
    "            # ===================forward=====================\n",
    "            encoded, decoded = model(img)\n",
    "            loss = criterion(decoded, img) \n",
    "            loss_ += loss\n",
    "            count += 1\n",
    "                # ===================backward====================\n",
    "            optimizer.zero_grad()\n",
    "    #         loss_opt.backward()\n",
    "            loss.backward()\n",
    "            optimizer.step()\n",
    "                # ===================log========================\n",
    "        print('epoch [{}/{}], loss:{:.4f}'\n",
    "              .format(epoch+1, num_epochs, loss_/count))\n",
    "        losses.append(loss_/count)\n",
    "    return model"
   ]
  },
  {
   "cell_type": "code",
   "execution_count": 5,
   "metadata": {},
   "outputs": [],
   "source": [
    "data = sparse.load_npz('one.npz').tocsr()"
   ]
  },
  {
   "cell_type": "code",
   "execution_count": 6,
   "metadata": {
    "scrolled": false
   },
   "outputs": [
    {
     "name": "stdout",
     "output_type": "stream",
     "text": [
      "67740\n",
      "data_loaded\n",
      "epoch [1/5], loss:0.4413\n",
      "epoch [2/5], loss:0.0129\n",
      "epoch [3/5], loss:0.0099\n",
      "epoch [4/5], loss:0.0094\n",
      "epoch [5/5], loss:0.0091\n",
      "trained\n"
     ]
    },
    {
     "name": "stderr",
     "output_type": "stream",
     "text": [
      "/home/tc2777/miniconda3/lib/python3.7/site-packages/torch/serialization.py:241: UserWarning: Couldn't retrieve source code for container of type autoencoder. It won't be checked for correctness upon loading.\n",
      "  \"type \" + obj.__name__ + \". It won't be checked \"\n"
     ]
    },
    {
     "name": "stdout",
     "output_type": "stream",
     "text": [
      "96772\n",
      "data_loaded\n",
      "epoch [1/5], loss:0.3066\n",
      "epoch [2/5], loss:0.0104\n",
      "epoch [3/5], loss:0.0093\n",
      "epoch [4/5], loss:0.0089\n",
      "epoch [5/5], loss:0.0086\n",
      "trained\n",
      "135481\n",
      "data_loaded\n",
      "epoch [1/5], loss:0.2280\n",
      "epoch [2/5], loss:0.0096\n",
      "epoch [3/5], loss:0.0089\n",
      "epoch [4/5], loss:0.0086\n",
      "epoch [5/5], loss:0.0084\n",
      "trained\n",
      "225803\n",
      "data_loaded\n",
      "epoch [1/5], loss:0.1423\n",
      "epoch [2/5], loss:0.0089\n",
      "epoch [3/5], loss:0.0085\n",
      "epoch [4/5], loss:0.0080\n",
      "epoch [5/5], loss:0.0068\n",
      "trained\n",
      "677409\n",
      "data_loaded\n",
      "epoch [1/5], loss:0.0511\n",
      "epoch [2/5], loss:0.0072\n",
      "epoch [3/5], loss:0.0062\n",
      "epoch [4/5], loss:0.0061\n",
      "epoch [5/5], loss:0.0060\n",
      "trained\n"
     ]
    }
   ],
   "source": [
    "import numpy \n",
    "m = 677409\n",
    "n = 5197\n",
    "for i in [0.2, 0.4, 0.6, 0.8, 1]:\n",
    "    print(int(m*i))\n",
    "    torch_data = torch.from_numpy(data[:int(m*i),:].todense().astype(np.float32))\n",
    "    batch_size = 128\n",
    "    dataloader = DataLoader(torch_data, batch_size=batch_size, shuffle=True)\n",
    "    print('data_loaded')\n",
    "    model = train(n, dataloader)\n",
    "    print('trained')\n",
    "    torch.save(model, 'model_{}'.format(i))\n",
    "#     encoded_data, _ = model.to('cpu')(data.todense().astype(np.float32))\n",
    "#     pd.DataFrame(encoded_data.detach().numpy()).to_csv('autoencoder_{}_1.csv'.format(i), index=False)"
   ]
  },
  {
   "cell_type": "code",
   "execution_count": 5,
   "metadata": {},
   "outputs": [],
   "source": [
    "torch_data = torch.from_numpy(sparse.load_npz('one.npz').tocsr().todense().astype(np.float32))\n",
    "for i in [10, 7, 5, 3, 1]:\n",
    "    model = torch.load('model_{}'.format(i))\n",
    "    encoded_data, _ = model.to('cpu')(torch_data)\n",
    "    pd.DataFrame(encoded_data.detach().numpy()).to_csv('autoencoder_{}_1.csv'.format(i), index=False)"
   ]
  },
  {
   "cell_type": "code",
   "execution_count": 7,
   "metadata": {
    "scrolled": true
   },
   "outputs": [
    {
     "data": {
      "image/png": "[encoded data removed]",
      "text/plain": [
       "<Figure size 432x288 with 1 Axes>"
      ]
     },
     "metadata": {
      "needs_background": "light"
     },
     "output_type": "display_data"
    }
   ],
   "source": [
    "%matplotlib inline\n",
    "import matplotlib.pyplot as plt\n",
    "plt.plot(losses)\n",
    "plt.ylabel('Loss Function')\n",
    "plt.xlabel('Number of Epochs')\n",
    "plt.show()"
   ]
  },
  {
   "cell_type": "code",
   "execution_count": 8,
   "metadata": {},
   "outputs": [
    {
     "data": {
      "image/png": "[encoded data removed]",
      "text/plain": [
       "<Figure size 432x288 with 1 Axes>"
      ]
     },
     "metadata": {
      "needs_background": "light"
     },
     "output_type": "display_data"
    }
   ],
   "source": [
    "%matplotlib inline\n",
    "import matplotlib.pyplot as plt\n",
    "plt.plot(kl_losses)\n",
    "plt.ylabel('KL Loss Function')\n",
    "plt.xlabel('Number of Epochs')\n",
    "plt.show()"
   ]
  },
  {
   "cell_type": "code",
   "execution_count": 9,
   "metadata": {},
   "outputs": [],
   "source": [
    "encoded_data, _ = model.to('cpu')(torch_data.to('cpu'))"
   ]
  },
  {
   "cell_type": "code",
   "execution_count": 10,
   "metadata": {},
   "outputs": [],
   "source": [
    "pd.DataFrame(encoded_data.detach().numpy()).to_csv('autoencoder_800.csv', index=False)"
   ]
  },
  {
   "cell_type": "code",
   "execution_count": 1,
   "metadata": {},
   "outputs": [],
   "source": []
  },
  {
   "cell_type": "code",
   "execution_count": 11,
   "metadata": {},
   "outputs": [
    {
     "ename": "NameError",
     "evalue": "name 'SparkSession' is not defined",
     "output_type": "error",
     "traceback": [
      "\u001b[0;31m---------------------------------------------------------------------------\u001b[0m",
      "\u001b[0;31mNameError\u001b[0m                                 Traceback (most recent call last)",
      "\u001b[0;32m<ipython-input-11-f77c6e584a74>\u001b[0m in \u001b[0;36m<module>\u001b[0;34m\u001b[0m\n\u001b[0;32m----> 1\u001b[0;31m \u001b[0mspark\u001b[0m \u001b[0;34m=\u001b[0m \u001b[0mSparkSession\u001b[0m\u001b[0;34m.\u001b[0m\u001b[0mbuilder\u001b[0m\u001b[0;34m.\u001b[0m\u001b[0mmaster\u001b[0m\u001b[0;34m(\u001b[0m\u001b[0;34m\"local[*]\"\u001b[0m\u001b[0;34m)\u001b[0m\u001b[0;34m.\u001b[0m\u001b[0mappName\u001b[0m\u001b[0;34m(\u001b[0m\u001b[0;34m\"Capstone\"\u001b[0m\u001b[0;34m)\u001b[0m\u001b[0;34m.\u001b[0m\u001b[0mgetOrCreate\u001b[0m\u001b[0;34m(\u001b[0m\u001b[0;34m)\u001b[0m\u001b[0;34m\u001b[0m\u001b[0m\n\u001b[0m\u001b[1;32m      2\u001b[0m \u001b[0;31m# data = spark.createDataFrame(data)\u001b[0m\u001b[0;34m\u001b[0m\u001b[0;34m\u001b[0m\u001b[0m\n",
      "\u001b[0;31mNameError\u001b[0m: name 'SparkSession' is not defined"
     ]
    }
   ],
   "source": [
    "spark = SparkSession.builder.master(\"local[*]\").appName(\"Capstone\").getOrCreate()\n",
    "# data = spark.createDataFrame(data)"
   ]
  },
  {
   "cell_type": "code",
   "execution_count": 37,
   "metadata": {},
   "outputs": [
    {
     "ename": "NameError",
     "evalue": "name 'VectorAssembler' is not defined",
     "output_type": "error",
     "traceback": [
      "\u001b[0;31m---------------------------------------------------------------------------\u001b[0m",
      "\u001b[0;31mNameError\u001b[0m                                 Traceback (most recent call last)",
      "\u001b[0;32m<ipython-input-37-9dbde3e24416>\u001b[0m in \u001b[0;36m<module>\u001b[0;34m\u001b[0m\n\u001b[1;32m      1\u001b[0m \u001b[0;31m# create sparse matrix\u001b[0m\u001b[0;34m\u001b[0m\u001b[0;34m\u001b[0m\u001b[0m\n\u001b[1;32m      2\u001b[0m \u001b[0mcols\u001b[0m \u001b[0;34m=\u001b[0m \u001b[0mdata\u001b[0m\u001b[0;34m.\u001b[0m\u001b[0mcolumns\u001b[0m\u001b[0;34m\u001b[0m\u001b[0m\n\u001b[0;32m----> 3\u001b[0;31m \u001b[0mvecAssembler\u001b[0m \u001b[0;34m=\u001b[0m \u001b[0mVectorAssembler\u001b[0m\u001b[0;34m(\u001b[0m\u001b[0minputCols\u001b[0m \u001b[0;34m=\u001b[0m \u001b[0mcols\u001b[0m\u001b[0;34m,\u001b[0m \u001b[0moutputCol\u001b[0m\u001b[0;34m=\u001b[0m\u001b[0;34m'features'\u001b[0m\u001b[0;34m)\u001b[0m\u001b[0;34m\u001b[0m\u001b[0m\n\u001b[0m\u001b[1;32m      4\u001b[0m \u001b[0msparse_matrix\u001b[0m \u001b[0;34m=\u001b[0m \u001b[0mvecAssembler\u001b[0m\u001b[0;34m.\u001b[0m\u001b[0mtransform\u001b[0m\u001b[0;34m(\u001b[0m\u001b[0mdata\u001b[0m\u001b[0;34m)\u001b[0m\u001b[0;34m.\u001b[0m\u001b[0mselect\u001b[0m\u001b[0;34m(\u001b[0m\u001b[0;34m'features'\u001b[0m\u001b[0;34m)\u001b[0m\u001b[0;34m\u001b[0m\u001b[0m\n\u001b[1;32m      5\u001b[0m \u001b[0;31m# Run Kmeans on the original dataset\u001b[0m\u001b[0;34m\u001b[0m\u001b[0;34m\u001b[0m\u001b[0m\n",
      "\u001b[0;31mNameError\u001b[0m: name 'VectorAssembler' is not defined"
     ]
    }
   ],
   "source": [
    "# create sparse matrix\n",
    "cols = data.columns\n",
    "vecAssembler = VectorAssembler(inputCols = cols, outputCol='features')\n",
    "sparse_matrix = vecAssembler.transform(data).select('features')\n",
    "# Run Kmeans on the original dataset\n",
    "bkm = BisectingKMeans(k=5, seed=1)\n",
    "kmeans = bkm.fit(sparse_matrix)\n",
    "kmeans_label = kmeans.transform(sparse_matrix)"
   ]
  },
  {
   "cell_type": "code",
   "execution_count": null,
   "metadata": {},
   "outputs": [],
   "source": [
    "kmeans_label.toPandas().to_csv('label.csv', index=False)"
   ]
  },
  {
   "cell_type": "code",
   "execution_count": null,
   "metadata": {},
   "outputs": [],
   "source": [
    "data = spark.read.csv('sampled.csv', header=True, inferSchema=True)"
   ]
  },
  {
   "cell_type": "code",
   "execution_count": null,
   "metadata": {},
   "outputs": [],
   "source": [
    "# create sparse matrix\n",
    "cols = [x for x in data.columns if x != '_c0']\n",
    "vecAssembler = VectorAssembler(inputCols = cols, outputCol='features')\n",
    "pca_matrix = vecAssembler.transform(data).select('_c0', 'features').withColumnRenamed('_c0', 'id')"
   ]
  },
  {
   "cell_type": "code",
   "execution_count": null,
   "metadata": {},
   "outputs": [],
   "source": [
    "pca_matrix.show()"
   ]
  },
  {
   "cell_type": "code",
   "execution_count": null,
   "metadata": {},
   "outputs": [],
   "source": [
    "pca = PCA(k=2, inputCol='features', outputCol='pca_features')\n",
    "pca_model = pca.fit(pca_matrix)"
   ]
  },
  {
   "cell_type": "code",
   "execution_count": null,
   "metadata": {},
   "outputs": [],
   "source": [
    "pca_label = pca_model.transform(pca_matrix)\n",
    "\n",
    "\n",
    "# Extract PCA Components\n",
    "def get_pca_component_1(v):\n",
    "    a = DenseVector(v)\n",
    "    return float(a[0])\n",
    "\n",
    "pca1 = udf(get_pca_component_1, FloatType())\n",
    "\n",
    "def get_pca_component_2(v):\n",
    "    a = DenseVector(v)\n",
    "    return float(a[1])\n",
    "\n",
    "pca2 = udf(get_pca_component_2, FloatType())\n",
    "\n",
    "pca_label = pca_label.withColumn('pca1', pca1(col('pca_features'))).withColumn('pca2', pca2(col('pca_features'))).select('pca1', 'pca2')\n"
   ]
  },
  {
   "cell_type": "code",
   "execution_count": null,
   "metadata": {},
   "outputs": [],
   "source": [
    "import pandas as pd"
   ]
  },
  {
   "cell_type": "code",
   "execution_count": null,
   "metadata": {},
   "outputs": [],
   "source": []
  },
  {
   "cell_type": "code",
   "execution_count": null,
   "metadata": {},
   "outputs": [],
   "source": [
    "\n",
    "\n",
    "pca = pd.concat([pd.read_csv('pca.csv'), pd.read_csv('label.csv')['prediction']], axis=1)"
   ]
  },
  {
   "cell_type": "code",
   "execution_count": null,
   "metadata": {
    "scrolled": true
   },
   "outputs": [],
   "source": [
    "%matplotlib inline\n",
    "pca.plot.scatter(x='pca1',y='pca2',c='prediction',colormap='viridis')"
   ]
  },
  {
   "cell_type": "code",
   "execution_count": null,
   "metadata": {},
   "outputs": [],
   "source": [
    "data = pd.DataFrame(encoded_data.detach().numpy())"
   ]
  },
  {
   "cell_type": "code",
   "execution_count": null,
   "metadata": {},
   "outputs": [],
   "source": [
    "from sklearn.manifold import TSNE\n",
    "\n",
    "X_embedded = TSNE(n_components=2).fit_transform(data)"
   ]
  },
  {
   "cell_type": "code",
   "execution_count": null,
   "metadata": {},
   "outputs": [],
   "source": [
    "a = pd.DataFrame(X_embedded)\n",
    "a.columns = ['1', '2']"
   ]
  },
  {
   "cell_type": "code",
   "execution_count": null,
   "metadata": {},
   "outputs": [],
   "source": [
    "tsne = pd.concat([a, pd.read_csv('label.csv')['prediction']], axis=1)"
   ]
  },
  {
   "cell_type": "code",
   "execution_count": null,
   "metadata": {},
   "outputs": [],
   "source": [
    "%matplotlib inline\n",
    "tsne.plot.scatter(x='1',y='2',c='prediction',colormap='tab10')"
   ]
  },
  {
   "cell_type": "code",
   "execution_count": null,
   "metadata": {},
   "outputs": [],
   "source": [
    "import matplotlib.cm as cmx"
   ]
  },
  {
   "cell_type": "code",
   "execution_count": null,
   "metadata": {},
   "outputs": [],
   "source": []
  }
 ],
 "metadata": {
  "kernelspec": {
   "display_name": "Python 3",
   "language": "python",
   "name": "python3"
  },
  "language_info": {
   "codemirror_mode": {
    "name": "ipython",
    "version": 3
   },
   "file_extension": ".py",
   "mimetype": "text/x-python",
   "name": "python",
   "nbconvert_exporter": "python",
   "pygments_lexer": "ipython3",
   "version": "3.5.6"
  }
 },
 "nbformat": 4,
 "nbformat_minor": 2
}
