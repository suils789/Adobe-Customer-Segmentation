{
 "cells": [
  {
   "cell_type": "code",
   "execution_count": 1,
   "metadata": {
    "collapsed": true
   },
   "outputs": [],
   "source": [
    "from lightfm.data import Dataset\n",
    "import pandas as pd\n",
    "from lightfm.evaluation import precision_at_k, auc_score\n",
    "from lightfm.cross_validation import random_train_test_split\n",
    "from lightfm import LightFM\n",
    "import numpy as np\n",
    "from posixpath import join\n",
    "import itertools"
   ]
  },
  {
   "cell_type": "code",
   "execution_count": 2,
   "metadata": {},
   "outputs": [
    {
     "name": "stdout",
     "output_type": "stream",
     "text": [
      "CPU times: user 55.4 s, sys: 28.1 s, total: 1min 23s\n",
      "Wall time: 1min 26s\n"
     ]
    }
   ],
   "source": [
    "%%time\n",
    "# load full data\n",
    "RANK=10\n",
    "EPOCHS=5\n",
    "LOSS='bpr'\n",
    "from scipy.sparse import load_npz\n",
    "data = load_npz('/home/suils789/fulldata2.npz')\n",
    "row, col = data.nonzero()"
   ]
  },
  {
   "cell_type": "code",
   "execution_count": 3,
   "metadata": {
    "collapsed": true
   },
   "outputs": [],
   "source": [
    "def build_interaction(data):\n",
    "    \n",
    "    row, col = data.nonzero()\n",
    "    user_ids = set(row)\n",
    "    item_ids = set(col)\n",
    "    dataset = Dataset()\n",
    "    dataset.fit(\n",
    "        (uid for uid in user_ids),\n",
    "        (iid for iid in item_ids)\n",
    "        )\n",
    "\n",
    "    num_users, num_items = dataset.interactions_shape()\n",
    "    print((num_users, num_items))\n",
    "    \n",
    "    zip_data = zip(row,col)\n",
    "    (interactions, weights) = dataset.build_interactions(zip_data)\n",
    "    \n",
    "    return interactions\n"
   ]
  },
  {
   "cell_type": "code",
   "execution_count": 6,
   "metadata": {},
   "outputs": [
    {
     "data": {
      "text/plain": [
       "((1148025491,), (1148025491,))"
      ]
     },
     "execution_count": 6,
     "metadata": {},
     "output_type": "execute_result"
    }
   ],
   "source": [
    "row.shape, col.shape"
   ]
  },
  {
   "cell_type": "code",
   "execution_count": 9,
   "metadata": {},
   "outputs": [
    {
     "name": "stdout",
     "output_type": "stream",
     "text": [
      "CPU times: user 3min 10s, sys: 11.9 s, total: 3min 22s\n",
      "Wall time: 3min 21s\n"
     ]
    }
   ],
   "source": [
    "%%time\n",
    "\n",
    "user_ids = set(row)\n",
    "item_ids = set(col)\n",
    "dataset = Dataset()\n",
    "dataset.fit(\n",
    "\t(uid for uid in user_ids),\n",
    "\t(iid for iid in item_ids)\n",
    "\t)\n",
    "\n",
    "num_users, num_items = dataset.interactions_shape()\n",
    "\n"
   ]
  },
  {
   "cell_type": "code",
   "execution_count": 10,
   "metadata": {},
   "outputs": [
    {
     "data": {
      "text/plain": [
       "(67768573, 5195)"
      ]
     },
     "execution_count": 10,
     "metadata": {},
     "output_type": "execute_result"
    }
   ],
   "source": [
    "num_users, num_items"
   ]
  },
  {
   "cell_type": "code",
   "execution_count": 17,
   "metadata": {},
   "outputs": [
    {
     "name": "stdout",
     "output_type": "stream",
     "text": [
      "CPU times: user 14 µs, sys: 2 µs, total: 16 µs\n",
      "Wall time: 19.6 µs\n",
      "Compiler : 1.03 s\n"
     ]
    }
   ],
   "source": [
    "%%time\n",
    "def subset_data(percent):\n",
    "    num_row = int(num_users*percent)\n",
    "    num_col = int(num_items*percent)\n",
    "    return zip(row[:num_row],col[:num_col])\n",
    "PERCENT=1\n",
    "subset = subset_data(PERCENT)\n",
    "# zip_data = zip(row,col)"
   ]
  },
  {
   "cell_type": "code",
   "execution_count": 8,
   "metadata": {},
   "outputs": [
    {
     "name": "stdout",
     "output_type": "stream",
     "text": [
      "CPU times: user 9.4 ms, sys: 2.91 ms, total: 12.3 ms\n",
      "Wall time: 12.1 ms\n"
     ]
    }
   ],
   "source": [
    "%%time\n",
    "#build training/testing sparse matrix\n",
    "# in format of (uid, itemid) pair\n",
    "(interactions, weights) = dataset \\\n",
    "    .build_interactions(subset)"
   ]
  },
  {
   "cell_type": "code",
   "execution_count": 10,
   "metadata": {},
   "outputs": [
    {
     "name": "stdout",
     "output_type": "stream",
     "text": [
      "CPU times: user 6.45 s, sys: 3.33 s, total: 9.78 s\n",
      "Wall time: 9.48 s\n"
     ]
    }
   ],
   "source": [
    "%%time\n",
    "# train - all items are positive signals\n",
    "implicit_model = LightFM(no_components=RANK, loss=LOSS)\n",
    "implicit_model.fit(interactions, epochs=EPOCHS, num_threads=4)"
   ]
  },
  {
   "cell_type": "code",
   "execution_count": 12,
   "metadata": {},
   "outputs": [
    {
     "name": "stdout",
     "output_type": "stream",
     "text": [
      "0.8379121\n",
      "CPU times: user 1.69 s, sys: 1.14 s, total: 2.83 s\n",
      "Wall time: 2.83 s\n"
     ]
    }
   ],
   "source": [
    "%%time\n",
    "# train precision\n",
    "print(precision_at_k(implicit_model, interactions, k=2).mean())"
   ]
  },
  {
   "cell_type": "code",
   "execution_count": 14,
   "metadata": {},
   "outputs": [
    {
     "name": "stdout",
     "output_type": "stream",
     "text": [
      "0.79692084\n",
      "CPU times: user 1.56 s, sys: 795 ms, total: 2.36 s\n",
      "Wall time: 1.56 s\n"
     ]
    }
   ],
   "source": [
    "%%time\n",
    "print(auc_score(implicit_model, interactions, num_threads=4, check_intersections=True).mean())"
   ]
  },
  {
   "cell_type": "code",
   "execution_count": 15,
   "metadata": {},
   "outputs": [
    {
     "data": {
      "text/plain": [
       "array([[-0.24156521,  0.043418  ],\n",
       "       [-0.17189297, -0.00130402],\n",
       "       [ 0.05117647, -0.03159123],\n",
       "       ...,\n",
       "       [ 0.2102966 ,  0.17916626],\n",
       "       [ 0.02212979, -0.1849086 ],\n",
       "       [-0.06897962, -0.11932024]], dtype=float32)"
      ]
     },
     "execution_count": 15,
     "metadata": {},
     "output_type": "execute_result"
    }
   ],
   "source": [
    "implicit_model.user_embeddings"
   ]
  },
  {
   "cell_type": "code",
   "execution_count": 14,
   "metadata": {
    "collapsed": true
   },
   "outputs": [],
   "source": [
    "outfile = 'user_embed'\n",
    "np.save(outfile, implicit_model.user_embeddings)"
   ]
  },
  {
   "cell_type": "code",
   "execution_count": 15,
   "metadata": {},
   "outputs": [
    {
     "data": {
      "text/plain": [
       "array([[ 0.00307047, -0.01270851],\n",
       "       [ 0.03538265,  0.096807  ],\n",
       "       [-0.17943452, -0.13600814],\n",
       "       ...,\n",
       "       [ 0.23745805,  0.21371886],\n",
       "       [-0.23371974,  0.22680877],\n",
       "       [ 0.19771738, -0.21621765]], dtype=float32)"
      ]
     },
     "execution_count": 15,
     "metadata": {},
     "output_type": "execute_result"
    }
   ],
   "source": [
    "# pickle latent space\n",
    "np.load('user_embed.npy')"
   ]
  },
  {
   "cell_type": "code",
   "execution_count": null,
   "metadata": {
    "collapsed": true
   },
   "outputs": [],
   "source": [
    "# embeding visualization\n",
    "from sklearn.cluster import KMeans\n",
    "from sklearn import manifold\n",
    "import matplotlib.pyplot as plt\n",
    "%matplotlib inline\n",
    "plt.rcParams['figure.dpi'] = \"300\"\n",
    "\n",
    "def visual(embeding, k_cluster):\n",
    "    tsne = manifold.TSNE(n_components=2, init='pca')\n",
    "    latent_space = tsne.fit_transform(embeding)\n",
    "    dbs = KMeans(n_clusters=k_cluster, init='k-means++').fit(embeding)\n",
    "    plt.scatter(latent_space[:,0], latent_space[:,1], c=plt.cm.Accent(dbs.labels_))\n",
    "    plt.show()\n"
   ]
  },
  {
   "cell_type": "code",
   "execution_count": null,
   "metadata": {
    "collapsed": true
   },
   "outputs": [],
   "source": [
    "%%time\n",
    "import random\n",
    "embeding = np.load('user_embed.npy')\n",
    "visual(embeding[:1000000], 5)"
   ]
  }
 ],
 "metadata": {
  "kernelspec": {
   "display_name": "Python 3",
   "language": "python",
   "name": "python3"
  },
  "language_info": {
   "codemirror_mode": {
    "name": "ipython",
    "version": 3
   },
   "file_extension": ".py",
   "mimetype": "text/x-python",
   "name": "python",
   "nbconvert_exporter": "python",
   "pygments_lexer": "ipython3",
   "version": "3.6.3"
  }
 },
 "nbformat": 4,
 "nbformat_minor": 2
}
