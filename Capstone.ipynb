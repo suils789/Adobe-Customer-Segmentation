{
 "cells": [
  {
   "cell_type": "code",
   "execution_count": 10,
   "metadata": {},
   "outputs": [],
   "source": [
    "import boto3\n",
    "from fastparquet import ParquetFile\n",
    "import pandas as pd"
   ]
  },
  {
   "cell_type": "code",
   "execution_count": 11,
   "metadata": {},
   "outputs": [],
   "source": [
    "from fastparquet import ParquetFile\n",
    "import pandas as pd\n",
    "dir_path = \"/Users/aditya/Desktop/Columbia/ENGIE4800/adobe/data/\"\n",
    "file_path = dir_path+\"part-00000-52f7d874-6802-44d3-a352-0436cead1733-c000.snappy.parquet\"\n",
    "df = pd.read_parquet(file_path, engine=\"fastparquet\")"
   ]
  },
  {
   "cell_type": "code",
   "execution_count": 12,
   "metadata": {},
   "outputs": [
    {
     "data": {
      "text/html": [
       "<div>\n",
       "<style scoped>\n",
       "    .dataframe tbody tr th:only-of-type {\n",
       "        vertical-align: middle;\n",
       "    }\n",
       "\n",
       "    .dataframe tbody tr th {\n",
       "        vertical-align: top;\n",
       "    }\n",
       "\n",
       "    .dataframe thead th {\n",
       "        text-align: right;\n",
       "    }\n",
       "</style>\n",
       "<table border=\"1\" class=\"dataframe\">\n",
       "  <thead>\n",
       "    <tr style=\"text-align: right;\">\n",
       "      <th></th>\n",
       "      <th>uuid</th>\n",
       "      <th>encodedTraits.type</th>\n",
       "      <th>encodedTraits.size</th>\n",
       "      <th>encodedTraits.indices</th>\n",
       "      <th>encodedTraits.values</th>\n",
       "    </tr>\n",
       "  </thead>\n",
       "  <tbody>\n",
       "    <tr>\n",
       "      <th>0</th>\n",
       "      <td>0000098c-f829-54c4-9de8-e5ffc177f579</td>\n",
       "      <td>0</td>\n",
       "      <td>5197</td>\n",
       "      <td>[800]</td>\n",
       "      <td>[1.0]</td>\n",
       "    </tr>\n",
       "    <tr>\n",
       "      <th>1</th>\n",
       "      <td>000012a0-3f40-57f2-adae-028b63617015</td>\n",
       "      <td>0</td>\n",
       "      <td>5197</td>\n",
       "      <td>[800, 2268, 4199, 4265, 4269, 4413, 5057]</td>\n",
       "      <td>[1.0, 1.0, 1.0, 1.0, 1.0, 1.0, 1.0]</td>\n",
       "    </tr>\n",
       "    <tr>\n",
       "      <th>2</th>\n",
       "      <td>000025e4-1b7d-552c-95e6-c1775b359282</td>\n",
       "      <td>0</td>\n",
       "      <td>5197</td>\n",
       "      <td>[3, 11, 28, 51, 54, 327, 340, 347, 363, 393, 3...</td>\n",
       "      <td>[1.0, 1.0, 1.0, 1.0, 1.0, 1.0, 1.0, 1.0, 1.0, ...</td>\n",
       "    </tr>\n",
       "    <tr>\n",
       "      <th>3</th>\n",
       "      <td>00003fd5-2cd3-5914-999b-807b2136c994</td>\n",
       "      <td>0</td>\n",
       "      <td>5197</td>\n",
       "      <td>[800, 2268, 4199, 4265, 4280, 4413, 4992]</td>\n",
       "      <td>[1.0, 1.0, 1.0, 1.0, 1.0, 1.0, 1.0]</td>\n",
       "    </tr>\n",
       "    <tr>\n",
       "      <th>4</th>\n",
       "      <td>00008e8e-3132-5267-a5ac-96368223f26e</td>\n",
       "      <td>0</td>\n",
       "      <td>5197</td>\n",
       "      <td>[800, 2268, 4199, 4265, 4274, 4413, 4904]</td>\n",
       "      <td>[1.0, 1.0, 1.0, 1.0, 1.0, 1.0, 1.0]</td>\n",
       "    </tr>\n",
       "  </tbody>\n",
       "</table>\n",
       "</div>"
      ],
      "text/plain": [
       "                                   uuid  encodedTraits.type  \\\n",
       "0  0000098c-f829-54c4-9de8-e5ffc177f579                   0   \n",
       "1  000012a0-3f40-57f2-adae-028b63617015                   0   \n",
       "2  000025e4-1b7d-552c-95e6-c1775b359282                   0   \n",
       "3  00003fd5-2cd3-5914-999b-807b2136c994                   0   \n",
       "4  00008e8e-3132-5267-a5ac-96368223f26e                   0   \n",
       "\n",
       "   encodedTraits.size                              encodedTraits.indices  \\\n",
       "0                5197                                              [800]   \n",
       "1                5197          [800, 2268, 4199, 4265, 4269, 4413, 5057]   \n",
       "2                5197  [3, 11, 28, 51, 54, 327, 340, 347, 363, 393, 3...   \n",
       "3                5197          [800, 2268, 4199, 4265, 4280, 4413, 4992]   \n",
       "4                5197          [800, 2268, 4199, 4265, 4274, 4413, 4904]   \n",
       "\n",
       "                                encodedTraits.values  \n",
       "0                                              [1.0]  \n",
       "1                [1.0, 1.0, 1.0, 1.0, 1.0, 1.0, 1.0]  \n",
       "2  [1.0, 1.0, 1.0, 1.0, 1.0, 1.0, 1.0, 1.0, 1.0, ...  \n",
       "3                [1.0, 1.0, 1.0, 1.0, 1.0, 1.0, 1.0]  \n",
       "4                [1.0, 1.0, 1.0, 1.0, 1.0, 1.0, 1.0]  "
      ]
     },
     "execution_count": 12,
     "metadata": {},
     "output_type": "execute_result"
    }
   ],
   "source": [
    "df.head()"
   ]
  },
  {
   "cell_type": "code",
   "execution_count": 13,
   "metadata": {},
   "outputs": [],
   "source": [
    "from mlxtend.frequent_patterns import apriori\n",
    "from mlxtend.frequent_patterns import association_rules\n",
    "from mlxtend.preprocessing import TransactionEncoder"
   ]
  },
  {
   "cell_type": "code",
   "execution_count": 31,
   "metadata": {},
   "outputs": [],
   "source": [
    "#records = df['encodedTraits.indices'].tolist()[:10000]\n",
    "#print(records)"
   ]
  },
  {
   "cell_type": "code",
   "execution_count": 15,
   "metadata": {},
   "outputs": [
    {
     "name": "stdout",
     "output_type": "stream",
     "text": [
      "[{2268} -> {800}, {4199} -> {800}, {4265} -> {800}, {4413} -> {800}, {4199} -> {2268}, {2268} -> {4199}, {4265} -> {2268}, {2268} -> {4265}, {4265} -> {4199}, {4199} -> {4265}, {4413} -> {4265}, {4265} -> {4413}, {2268, 4199} -> {800}, {800, 4199} -> {2268}, {800, 2268} -> {4199}, {4199} -> {800, 2268}, {2268} -> {800, 4199}, {2268, 4265} -> {800}, {800, 4265} -> {2268}, {800, 2268} -> {4265}, {4265} -> {800, 2268}, {2268} -> {800, 4265}, {4199, 4265} -> {800}, {800, 4265} -> {4199}, {800, 4199} -> {4265}, {4265} -> {800, 4199}, {4199} -> {800, 4265}, {4265, 4413} -> {800}, {800, 4413} -> {4265}, {800, 4265} -> {4413}, {4413} -> {800, 4265}, {4265} -> {800, 4413}, {4199, 4265} -> {2268}, {2268, 4265} -> {4199}, {2268, 4199} -> {4265}, {4265} -> {2268, 4199}, {4199} -> {2268, 4265}, {2268} -> {4199, 4265}, {2268, 4199, 4265} -> {800}, {800, 4199, 4265} -> {2268}, {800, 2268, 4265} -> {4199}, {800, 2268, 4199} -> {4265}, {4199, 4265} -> {800, 2268}, {2268, 4265} -> {800, 4199}, {2268, 4199} -> {800, 4265}, {800, 4265} -> {2268, 4199}, {800, 4199} -> {2268, 4265}, {800, 2268} -> {4199, 4265}, {4265} -> {800, 2268, 4199}, {4199} -> {800, 2268, 4265}, {2268} -> {800, 4199, 4265}]\n"
     ]
    }
   ],
   "source": [
    "from efficient_apriori import apriori\n",
    "transactions = [('eggs', 'bacon', 'soup'),\n",
    "                ('eggs', 'bacon', 'apple'),\n",
    "                ('soup', 'bacon', 'banana')]\n",
    "transactions = records\n",
    "itemsets, rules = apriori(transactions, min_support=0.2,  min_confidence=0.5)\n",
    "print(rules)  # [{eggs} -> {bacon}, {soup} -> {bacon}]"
   ]
  },
  {
   "cell_type": "code",
   "execution_count": 18,
   "metadata": {},
   "outputs": [],
   "source": [
    "import glob\n",
    "import os\n",
    "file_num = 0\n",
    "res = []\n",
    "for filepath in glob.glob(os.path.join(dir_path, '*.snappy.parquet')):\n",
    "    df = pd.read_parquet(filepath, engine=\"fastparquet\")\n",
    "    sample = df.sample(frac=0.01, replace=False, random_state=66)\n",
    "    sample['from_file'] = file_num\n",
    "    file_num += 1\n",
    "    res.append(sample)"
   ]
  },
  {
   "cell_type": "code",
   "execution_count": 22,
   "metadata": {},
   "outputs": [
    {
     "data": {
      "text/html": [
       "<div>\n",
       "<style scoped>\n",
       "    .dataframe tbody tr th:only-of-type {\n",
       "        vertical-align: middle;\n",
       "    }\n",
       "\n",
       "    .dataframe tbody tr th {\n",
       "        vertical-align: top;\n",
       "    }\n",
       "\n",
       "    .dataframe thead th {\n",
       "        text-align: right;\n",
       "    }\n",
       "</style>\n",
       "<table border=\"1\" class=\"dataframe\">\n",
       "  <thead>\n",
       "    <tr style=\"text-align: right;\">\n",
       "      <th></th>\n",
       "      <th>uuid</th>\n",
       "      <th>encodedTraits.type</th>\n",
       "      <th>encodedTraits.size</th>\n",
       "      <th>encodedTraits.indices</th>\n",
       "      <th>encodedTraits.values</th>\n",
       "      <th>from_file</th>\n",
       "    </tr>\n",
       "  </thead>\n",
       "  <tbody>\n",
       "    <tr>\n",
       "      <th>425789</th>\n",
       "      <td>9ebc1bd3-9cae-5540-9b68-2173e151405a</td>\n",
       "      <td>0</td>\n",
       "      <td>5197</td>\n",
       "      <td>[800]</td>\n",
       "      <td>[1.0]</td>\n",
       "      <td>0</td>\n",
       "    </tr>\n",
       "    <tr>\n",
       "      <th>134415</th>\n",
       "      <td>3267b648-f9ba-5252-ae8c-2e96d2efd802</td>\n",
       "      <td>0</td>\n",
       "      <td>5197</td>\n",
       "      <td>[800, 2268, 4199, 4265, 4279, 4413, 4931]</td>\n",
       "      <td>[1.0, 1.0, 1.0, 1.0, 1.0, 1.0, 1.0]</td>\n",
       "      <td>0</td>\n",
       "    </tr>\n",
       "    <tr>\n",
       "      <th>631131</th>\n",
       "      <td>eb786b48-dc5e-5c86-981d-01b5ac99831b</td>\n",
       "      <td>0</td>\n",
       "      <td>5197</td>\n",
       "      <td>[51, 800, 4211, 4265, 4269, 4412, 4413, 5051, ...</td>\n",
       "      <td>[1.0, 1.0, 1.0, 1.0, 1.0, 1.0, 1.0, 1.0, 1.0]</td>\n",
       "      <td>0</td>\n",
       "    </tr>\n",
       "    <tr>\n",
       "      <th>663099</th>\n",
       "      <td>f76fcdb1-a203-5d48-a96c-a10c88f4b07c</td>\n",
       "      <td>0</td>\n",
       "      <td>5197</td>\n",
       "      <td>[800]</td>\n",
       "      <td>[1.0]</td>\n",
       "      <td>0</td>\n",
       "    </tr>\n",
       "    <tr>\n",
       "      <th>4023</th>\n",
       "      <td>017f25d1-fcac-5996-a564-bd208baa8281</td>\n",
       "      <td>0</td>\n",
       "      <td>5197</td>\n",
       "      <td>[800]</td>\n",
       "      <td>[1.0]</td>\n",
       "      <td>0</td>\n",
       "    </tr>\n",
       "  </tbody>\n",
       "</table>\n",
       "</div>"
      ],
      "text/plain": [
       "                                        uuid  encodedTraits.type  \\\n",
       "425789  9ebc1bd3-9cae-5540-9b68-2173e151405a                   0   \n",
       "134415  3267b648-f9ba-5252-ae8c-2e96d2efd802                   0   \n",
       "631131  eb786b48-dc5e-5c86-981d-01b5ac99831b                   0   \n",
       "663099  f76fcdb1-a203-5d48-a96c-a10c88f4b07c                   0   \n",
       "4023    017f25d1-fcac-5996-a564-bd208baa8281                   0   \n",
       "\n",
       "        encodedTraits.size                              encodedTraits.indices  \\\n",
       "425789                5197                                              [800]   \n",
       "134415                5197          [800, 2268, 4199, 4265, 4279, 4413, 4931]   \n",
       "631131                5197  [51, 800, 4211, 4265, 4269, 4412, 4413, 5051, ...   \n",
       "663099                5197                                              [800]   \n",
       "4023                  5197                                              [800]   \n",
       "\n",
       "                                 encodedTraits.values  from_file  \n",
       "425789                                          [1.0]          0  \n",
       "134415            [1.0, 1.0, 1.0, 1.0, 1.0, 1.0, 1.0]          0  \n",
       "631131  [1.0, 1.0, 1.0, 1.0, 1.0, 1.0, 1.0, 1.0, 1.0]          0  \n",
       "663099                                          [1.0]          0  \n",
       "4023                                            [1.0]          0  "
      ]
     },
     "execution_count": 22,
     "metadata": {},
     "output_type": "execute_result"
    }
   ],
   "source": [
    "data = pd.concat(res)\n",
    "data.head()\n",
    "#records = df['encodedTraits.indices'].tolist()[:10000]\n",
    "#print(records)"
   ]
  },
  {
   "cell_type": "code",
   "execution_count": 23,
   "metadata": {},
   "outputs": [],
   "source": [
    "records = df['encodedTraits.indices'].tolist()[:10000]"
   ]
  },
  {
   "cell_type": "code",
   "execution_count": 30,
   "metadata": {},
   "outputs": [
    {
     "name": "stdout",
     "output_type": "stream",
     "text": [
      "Association Rules:\n",
      "{2268} -> {800} (conf: 1.000, supp: 0.228, lift: 1.000, conv: 0.000)\n",
      "{4199} -> {800} (conf: 1.000, supp: 0.222, lift: 1.000, conv: 0.000)\n",
      "{4265} -> {800} (conf: 1.000, supp: 0.386, lift: 1.000, conv: 0.000)\n",
      "{4269} -> {800} (conf: 1.000, supp: 0.205, lift: 1.000, conv: 0.000)\n",
      "{4413} -> {800} (conf: 1.000, supp: 0.452, lift: 1.000, conv: 0.000)\n",
      "{800} -> {4413} (conf: 0.452, supp: 0.452, lift: 1.000, conv: 1.000)\n",
      "{4199} -> {2268} (conf: 0.938, supp: 0.208, lift: 4.115, conv: 12.487)\n",
      "{2268} -> {4199} (conf: 0.912, supp: 0.208, lift: 4.115, conv: 8.830)\n",
      "{4265} -> {2268} (conf: 0.590, supp: 0.228, lift: 2.589, conv: 1.885)\n",
      "{2268} -> {4265} (conf: 1.000, supp: 0.228, lift: 2.589, conv: 613800000.000)\n",
      "{4265} -> {4199} (conf: 0.574, supp: 0.222, lift: 2.589, conv: 1.826)\n",
      "{4199} -> {4265} (conf: 1.000, supp: 0.222, lift: 2.589, conv: 613800000.000)\n",
      "{4413} -> {4265} (conf: 0.760, supp: 0.344, lift: 1.969, conv: 2.561)\n",
      "{4265} -> {4413} (conf: 0.890, supp: 0.344, lift: 1.969, conv: 5.001)\n",
      "{2268, 4199} -> {800} (conf: 1.000, supp: 0.208, lift: 1.000, conv: 0.000)\n",
      "{800, 4199} -> {2268} (conf: 0.938, supp: 0.208, lift: 4.115, conv: 12.487)\n",
      "{800, 2268} -> {4199} (conf: 0.912, supp: 0.208, lift: 4.115, conv: 8.830)\n",
      "{4199} -> {800, 2268} (conf: 0.938, supp: 0.208, lift: 4.115, conv: 12.487)\n",
      "{2268} -> {800, 4199} (conf: 0.912, supp: 0.208, lift: 4.115, conv: 8.830)\n",
      "{2268, 4265} -> {800} (conf: 1.000, supp: 0.228, lift: 1.000, conv: 0.000)\n",
      "{800, 4265} -> {2268} (conf: 0.590, supp: 0.228, lift: 2.589, conv: 1.885)\n",
      "{800, 2268} -> {4265} (conf: 1.000, supp: 0.228, lift: 2.589, conv: 613800000.000)\n",
      "{4265} -> {800, 2268} (conf: 0.590, supp: 0.228, lift: 2.589, conv: 1.885)\n",
      "{2268} -> {800, 4265} (conf: 1.000, supp: 0.228, lift: 2.589, conv: 613800000.000)\n",
      "{4199, 4265} -> {800} (conf: 1.000, supp: 0.222, lift: 1.000, conv: 0.000)\n",
      "{800, 4265} -> {4199} (conf: 0.574, supp: 0.222, lift: 2.589, conv: 1.826)\n",
      "{800, 4199} -> {4265} (conf: 1.000, supp: 0.222, lift: 2.589, conv: 613800000.000)\n",
      "{4265} -> {800, 4199} (conf: 0.574, supp: 0.222, lift: 2.589, conv: 1.826)\n",
      "{4199} -> {800, 4265} (conf: 1.000, supp: 0.222, lift: 2.589, conv: 613800000.000)\n",
      "{4265, 4413} -> {800} (conf: 1.000, supp: 0.344, lift: 1.000, conv: 0.000)\n",
      "{800, 4413} -> {4265} (conf: 0.760, supp: 0.344, lift: 1.969, conv: 2.561)\n",
      "{800, 4265} -> {4413} (conf: 0.890, supp: 0.344, lift: 1.969, conv: 5.001)\n",
      "{4413} -> {800, 4265} (conf: 0.760, supp: 0.344, lift: 1.969, conv: 2.561)\n",
      "{4265} -> {800, 4413} (conf: 0.890, supp: 0.344, lift: 1.969, conv: 5.001)\n",
      "{4199, 4265} -> {2268} (conf: 0.938, supp: 0.208, lift: 4.115, conv: 12.487)\n",
      "{2268, 4265} -> {4199} (conf: 0.912, supp: 0.208, lift: 4.115, conv: 8.830)\n",
      "{2268, 4199} -> {4265} (conf: 1.000, supp: 0.208, lift: 2.589, conv: 613800000.000)\n",
      "{4265} -> {2268, 4199} (conf: 0.538, supp: 0.208, lift: 2.589, conv: 1.716)\n",
      "{4199} -> {2268, 4265} (conf: 0.938, supp: 0.208, lift: 4.115, conv: 12.487)\n",
      "{2268} -> {4199, 4265} (conf: 0.912, supp: 0.208, lift: 4.115, conv: 8.830)\n",
      "{2268, 4199, 4265} -> {800} (conf: 1.000, supp: 0.208, lift: 1.000, conv: 0.000)\n",
      "{800, 4199, 4265} -> {2268} (conf: 0.938, supp: 0.208, lift: 4.115, conv: 12.487)\n",
      "{800, 2268, 4265} -> {4199} (conf: 0.912, supp: 0.208, lift: 4.115, conv: 8.830)\n",
      "{800, 2268, 4199} -> {4265} (conf: 1.000, supp: 0.208, lift: 2.589, conv: 613800000.000)\n",
      "{4199, 4265} -> {800, 2268} (conf: 0.938, supp: 0.208, lift: 4.115, conv: 12.487)\n",
      "{2268, 4265} -> {800, 4199} (conf: 0.912, supp: 0.208, lift: 4.115, conv: 8.830)\n",
      "{2268, 4199} -> {800, 4265} (conf: 1.000, supp: 0.208, lift: 2.589, conv: 613800000.000)\n",
      "{800, 4265} -> {2268, 4199} (conf: 0.538, supp: 0.208, lift: 2.589, conv: 1.716)\n",
      "{800, 4199} -> {2268, 4265} (conf: 0.938, supp: 0.208, lift: 4.115, conv: 12.487)\n",
      "{800, 2268} -> {4199, 4265} (conf: 0.912, supp: 0.208, lift: 4.115, conv: 8.830)\n",
      "{4265} -> {800, 2268, 4199} (conf: 0.538, supp: 0.208, lift: 2.589, conv: 1.716)\n",
      "{4199} -> {800, 2268, 4265} (conf: 0.938, supp: 0.208, lift: 4.115, conv: 12.487)\n",
      "{2268} -> {800, 4199, 4265} (conf: 0.912, supp: 0.208, lift: 4.115, conv: 8.830)\n"
     ]
    }
   ],
   "source": [
    "transactions = records\n",
    "itemsets, rules = apriori(transactions, min_support=0.2,  min_confidence=0.4)\n",
    "print(\"Association Rules:\")\n",
    "for i in rules:\n",
    "    print(i)"
   ]
  },
  {
   "cell_type": "code",
   "execution_count": null,
   "metadata": {},
   "outputs": [],
   "source": []
  }
 ],
 "metadata": {
  "kernelspec": {
   "display_name": "Python 3",
   "language": "python",
   "name": "python3"
  },
  "language_info": {
   "codemirror_mode": {
    "name": "ipython",
    "version": 3
   },
   "file_extension": ".py",
   "mimetype": "text/x-python",
   "name": "python",
   "nbconvert_exporter": "python",
   "pygments_lexer": "ipython3",
   "version": "3.7.0"
  }
 },
 "nbformat": 4,
 "nbformat_minor": 2
}
