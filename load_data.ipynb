{
 "cells": [
  {
   "cell_type": "code",
   "execution_count": 1,
   "metadata": {},
   "outputs": [],
   "source": [
    "import boto3\n",
    "from fastparquet import ParquetFile\n",
    "import pandas as pd"
   ]
  },
  {
   "cell_type": "code",
   "execution_count": 2,
   "metadata": {},
   "outputs": [],
   "source": [
    "file_path = \"your_path_to_data/adobe/data/part-00000-52f7d874-6802-44d3-a352-0436cead1733-c000.snappy.parquet\""
   ]
  },
  {
   "cell_type": "code",
   "execution_count": 3,
   "metadata": {},
   "outputs": [],
   "source": [
    "df = pd.read_parquet(file_path, engine=\"fastparquet\")"
   ]
  },
  {
   "cell_type": "code",
   "execution_count": 4,
   "metadata": {},
   "outputs": [
    {
     "data": {
      "text/html": [
       "<div>\n",
       "<style scoped>\n",
       "    .dataframe tbody tr th:only-of-type {\n",
       "        vertical-align: middle;\n",
       "    }\n",
       "\n",
       "    .dataframe tbody tr th {\n",
       "        vertical-align: top;\n",
       "    }\n",
       "\n",
       "    .dataframe thead th {\n",
       "        text-align: right;\n",
       "    }\n",
       "</style>\n",
       "<table border=\"1\" class=\"dataframe\">\n",
       "  <thead>\n",
       "    <tr style=\"text-align: right;\">\n",
       "      <th></th>\n",
       "      <th>uuid</th>\n",
       "      <th>encodedTraits.type</th>\n",
       "      <th>encodedTraits.size</th>\n",
       "      <th>encodedTraits.indices</th>\n",
       "      <th>encodedTraits.values</th>\n",
       "    </tr>\n",
       "  </thead>\n",
       "  <tbody>\n",
       "    <tr>\n",
       "      <th>0</th>\n",
       "      <td>0000098c-f829-54c4-9de8-e5ffc177f579</td>\n",
       "      <td>0</td>\n",
       "      <td>5197</td>\n",
       "      <td>[800]</td>\n",
       "      <td>[1.0]</td>\n",
       "    </tr>\n",
       "    <tr>\n",
       "      <th>1</th>\n",
       "      <td>000012a0-3f40-57f2-adae-028b63617015</td>\n",
       "      <td>0</td>\n",
       "      <td>5197</td>\n",
       "      <td>[800, 2268, 4199, 4265, 4269, 4413, 5057]</td>\n",
       "      <td>[1.0, 1.0, 1.0, 1.0, 1.0, 1.0, 1.0]</td>\n",
       "    </tr>\n",
       "    <tr>\n",
       "      <th>2</th>\n",
       "      <td>000025e4-1b7d-552c-95e6-c1775b359282</td>\n",
       "      <td>0</td>\n",
       "      <td>5197</td>\n",
       "      <td>[3, 11, 28, 51, 54, 327, 340, 347, 363, 393, 3...</td>\n",
       "      <td>[1.0, 1.0, 1.0, 1.0, 1.0, 1.0, 1.0, 1.0, 1.0, ...</td>\n",
       "    </tr>\n",
       "    <tr>\n",
       "      <th>3</th>\n",
       "      <td>00003fd5-2cd3-5914-999b-807b2136c994</td>\n",
       "      <td>0</td>\n",
       "      <td>5197</td>\n",
       "      <td>[800, 2268, 4199, 4265, 4280, 4413, 4992]</td>\n",
       "      <td>[1.0, 1.0, 1.0, 1.0, 1.0, 1.0, 1.0]</td>\n",
       "    </tr>\n",
       "    <tr>\n",
       "      <th>4</th>\n",
       "      <td>00008e8e-3132-5267-a5ac-96368223f26e</td>\n",
       "      <td>0</td>\n",
       "      <td>5197</td>\n",
       "      <td>[800, 2268, 4199, 4265, 4274, 4413, 4904]</td>\n",
       "      <td>[1.0, 1.0, 1.0, 1.0, 1.0, 1.0, 1.0]</td>\n",
       "    </tr>\n",
       "  </tbody>\n",
       "</table>\n",
       "</div>"
      ],
      "text/plain": [
       "                                   uuid  encodedTraits.type  \\\n",
       "0  0000098c-f829-54c4-9de8-e5ffc177f579                   0   \n",
       "1  000012a0-3f40-57f2-adae-028b63617015                   0   \n",
       "2  000025e4-1b7d-552c-95e6-c1775b359282                   0   \n",
       "3  00003fd5-2cd3-5914-999b-807b2136c994                   0   \n",
       "4  00008e8e-3132-5267-a5ac-96368223f26e                   0   \n",
       "\n",
       "   encodedTraits.size                              encodedTraits.indices  \\\n",
       "0                5197                                              [800]   \n",
       "1                5197          [800, 2268, 4199, 4265, 4269, 4413, 5057]   \n",
       "2                5197  [3, 11, 28, 51, 54, 327, 340, 347, 363, 393, 3...   \n",
       "3                5197          [800, 2268, 4199, 4265, 4280, 4413, 4992]   \n",
       "4                5197          [800, 2268, 4199, 4265, 4274, 4413, 4904]   \n",
       "\n",
       "                                encodedTraits.values  \n",
       "0                                              [1.0]  \n",
       "1                [1.0, 1.0, 1.0, 1.0, 1.0, 1.0, 1.0]  \n",
       "2  [1.0, 1.0, 1.0, 1.0, 1.0, 1.0, 1.0, 1.0, 1.0, ...  \n",
       "3                [1.0, 1.0, 1.0, 1.0, 1.0, 1.0, 1.0]  \n",
       "4                [1.0, 1.0, 1.0, 1.0, 1.0, 1.0, 1.0]  "
      ]
     },
     "execution_count": 4,
     "metadata": {},
     "output_type": "execute_result"
    }
   ],
   "source": [
    "df.head()"
   ]
  },
  {
   "cell_type": "code",
   "execution_count": null,
   "metadata": {},
   "outputs": [],
   "source": []
  }
 ],
 "metadata": {
  "kernelspec": {
   "display_name": "Python 3",
   "language": "python",
   "name": "python3"
  },
  "language_info": {
   "codemirror_mode": {
    "name": "ipython",
    "version": 3
   },
   "file_extension": ".py",
   "mimetype": "text/x-python",
   "name": "python",
   "nbconvert_exporter": "python",
   "pygments_lexer": "ipython3",
   "version": "3.6.6"
  }
 },
 "nbformat": 4,
 "nbformat_minor": 2
}
