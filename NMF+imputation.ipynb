{
 "cells": [
  {
   "cell_type": "code",
   "execution_count": 2,
   "metadata": {},
   "outputs": [],
   "source": [
    "import pandas as pd\n",
    "import numpy as np\n",
    "import surprise as sp\n",
    "from surprise.model_selection import train_test_split, cross_validate\n",
    "from scipy import sparse\n",
    "import time\n",
    "import networkx as nx\n",
    "from networkx.algorithms import bipartite\n",
    "import matplotlib.pyplot as plt\n",
    "%matplotlib inline "
   ]
  },
  {
   "cell_type": "code",
   "execution_count": 2,
   "metadata": {},
   "outputs": [
    {
     "name": "stderr",
     "output_type": "stream",
     "text": [
      "/home/ls3452/anaconda3/lib/python3.5/site-packages/numpy/lib/arraysetops.py:522: FutureWarning: elementwise comparison failed; returning scalar instead, but in the future will perform elementwise comparison\n",
      "  mask |= (ar1 == a)\n"
     ]
    },
    {
     "data": {
      "text/plain": [
       "(1371486, 6)"
      ]
     },
     "execution_count": 2,
     "metadata": {},
     "output_type": "execute_result"
    }
   ],
   "source": [
    "df = pd.read_csv(\"sample.csv\",index_col='Unnamed: 0').drop_duplicates(subset = 'uuid')"
   ]
  },
  {
   "cell_type": "code",
   "execution_count": 3,
   "metadata": {},
   "outputs": [],
   "source": [
    "df = df.sample(100000)"
   ]
  },
  {
   "cell_type": "code",
   "execution_count": 4,
   "metadata": {},
   "outputs": [],
   "source": [
    "users = df['uuid'].values\n",
    "traits = [eval(x) for x in df['encodedTraits.indices'].values]"
   ]
  },
  {
   "cell_type": "code",
   "execution_count": 5,
   "metadata": {
    "collapsed": true
   },
   "outputs": [],
   "source": [
    "B = nx.DiGraph()\n",
    "B.add_nodes_from(users, bipartite=0)\n",
    "B.add_nodes_from(list(range(1,5198)), bipartite=1)"
   ]
  },
  {
   "cell_type": "code",
   "execution_count": 8,
   "metadata": {},
   "outputs": [],
   "source": [
    "for i in range(len(users)):\n",
    "    for j in range(len(traits[i])):\n",
    "        B.add_edge(users[i], traits[i][j])"
   ]
  },
  {
   "cell_type": "code",
   "execution_count": 9,
   "metadata": {},
   "outputs": [],
   "source": [
    "user_traits_matrix = bipartite.matrix.biadjacency_matrix(B, users, list(range(1,5198)))"
   ]
  },
  {
   "cell_type": "code",
   "execution_count": 10,
   "metadata": {},
   "outputs": [
    {
     "data": {
      "text/plain": [
       "<100000x5197 sparse matrix of type '<class 'numpy.int64'>'\n",
       "\twith 1006653 stored elements in Compressed Sparse Row format>"
      ]
     },
     "execution_count": 10,
     "metadata": {},
     "output_type": "execute_result"
    }
   ],
   "source": [
    "user_traits_matrix"
   ]
  },
  {
   "cell_type": "code",
   "execution_count": 11,
   "metadata": {
    "collapsed": true
   },
   "outputs": [],
   "source": [
    "positive_pair_df = pd.DataFrame(B.edges(), columns = ['user', 'traits'])"
   ]
  },
  {
   "cell_type": "code",
   "execution_count": 12,
   "metadata": {
    "collapsed": true
   },
   "outputs": [],
   "source": [
    "positive_pair_df['value'] = 1"
   ]
  },
  {
   "cell_type": "code",
   "execution_count": 15,
   "metadata": {
    "collapsed": true
   },
   "outputs": [],
   "source": [
    "def surprise_model_base_0(df, s, hyparam):\n",
    "    reader = sp.Reader(rating_scale=(0, 1))\n",
    "    data = sp.Dataset.load_from_df(df[['user','traits','value']], reader)\n",
    "    data.split(s)\n",
    "    \n",
    "    result = dict()\n",
    "    for nf in hyparam:\n",
    "        print(\"Number of latent factor %s :\" % nf)\n",
    "        sTime = time.time()\n",
    "        model = sp.NMF(n_factors=nf, n_epochs=30, biased=False, verbose=False)\n",
    "        perf = sp.evaluate(model, data, measures=['RMSE', 'MAE'], n_jobs = -1)\n",
    "        #sp.print_perf(perf)\n",
    "        print(\"Running Time: %s sec\" % (time.time()-sTime))\n",
    "        result[str(nf)] = [perf, (time.time()-sTime)]\n",
    "    return result"
   ]
  },
  {
   "cell_type": "code",
   "execution_count": 16,
   "metadata": {
    "scrolled": false
   },
   "outputs": [
    {
     "name": "stdout",
     "output_type": "stream",
     "text": [
      "10 :\n",
      "Evaluating RMSE, MAE of algorithm NMF.\n",
      "\n"
     ]
    },
    {
     "name": "stderr",
     "output_type": "stream",
     "text": [
      "/home/ls3452/anaconda3/lib/python3.5/site-packages/surprise/evaluate.py:66: UserWarning: The evaluate() method is deprecated. Please use model_selection.cross_validate() instead.\n",
      "  'model_selection.cross_validate() instead.', UserWarning)\n",
      "/home/ls3452/anaconda3/lib/python3.5/site-packages/surprise/dataset.py:193: UserWarning: Using data.split() or using load_from_folds() without using a CV iterator is now deprecated. \n",
      "  UserWarning)\n"
     ]
    },
    {
     "name": "stdout",
     "output_type": "stream",
     "text": [
      "------------\n",
      "Fold 1\n",
      "RMSE: 0.0392\n",
      "MAE:  0.0177\n",
      "------------\n",
      "Fold 2\n",
      "RMSE: 0.0428\n",
      "MAE:  0.0200\n",
      "------------\n",
      "Fold 3\n",
      "RMSE: 0.0309\n",
      "MAE:  0.0126\n",
      "------------\n",
      "Fold 4\n",
      "RMSE: 0.0419\n",
      "MAE:  0.0184\n",
      "------------\n",
      "Fold 5\n",
      "RMSE: 0.0260\n",
      "MAE:  0.0091\n",
      "------------\n",
      "------------\n",
      "Mean RMSE: 0.0361\n",
      "Mean MAE : 0.0156\n",
      "------------\n",
      "------------\n",
      "Running Time: 207.0772783756256 sec\n",
      "20 :\n",
      "Evaluating RMSE, MAE of algorithm NMF.\n",
      "\n",
      "------------\n",
      "Fold 1\n",
      "RMSE: 0.0089\n",
      "MAE:  0.0009\n",
      "------------\n",
      "Fold 2\n",
      "RMSE: 0.0072\n",
      "MAE:  0.0005\n",
      "------------\n",
      "Fold 3\n",
      "RMSE: 0.0108\n",
      "MAE:  0.0011\n",
      "------------\n",
      "Fold 4\n",
      "RMSE: 0.0102\n",
      "MAE:  0.0011\n",
      "------------\n",
      "Fold 5\n",
      "RMSE: 0.0084\n",
      "MAE:  0.0007\n",
      "------------\n",
      "------------\n",
      "Mean RMSE: 0.0091\n",
      "Mean MAE : 0.0009\n",
      "------------\n",
      "------------\n",
      "Running Time: 249.46741485595703 sec\n",
      "30 :\n",
      "Evaluating RMSE, MAE of algorithm NMF.\n",
      "\n",
      "------------\n",
      "Fold 1\n",
      "RMSE: 0.0057\n",
      "MAE:  0.0003\n",
      "------------\n",
      "Fold 2\n",
      "RMSE: 0.0025\n",
      "MAE:  0.0001\n",
      "------------\n",
      "Fold 3\n",
      "RMSE: 0.0053\n",
      "MAE:  0.0003\n",
      "------------\n",
      "Fold 4\n",
      "RMSE: 0.0075\n",
      "MAE:  0.0005\n",
      "------------\n",
      "Fold 5\n",
      "RMSE: 0.0021\n",
      "MAE:  0.0001\n",
      "------------\n",
      "------------\n",
      "Mean RMSE: 0.0046\n",
      "Mean MAE : 0.0002\n",
      "------------\n",
      "------------\n",
      "Running Time: 286.71865820884705 sec\n",
      "40 :\n",
      "Evaluating RMSE, MAE of algorithm NMF.\n",
      "\n",
      "------------\n",
      "Fold 1\n",
      "RMSE: 0.0016\n",
      "MAE:  0.0000\n",
      "------------\n",
      "Fold 2\n",
      "RMSE: 0.0016\n",
      "MAE:  0.0000\n",
      "------------\n",
      "Fold 3\n",
      "RMSE: 0.0020\n",
      "MAE:  0.0001\n",
      "------------\n",
      "Fold 4\n",
      "RMSE: 0.0009\n",
      "MAE:  0.0000\n",
      "------------\n",
      "Fold 5\n",
      "RMSE: 0.0013\n",
      "MAE:  0.0000\n",
      "------------\n",
      "------------\n",
      "Mean RMSE: 0.0015\n",
      "Mean MAE : 0.0000\n",
      "------------\n",
      "------------\n",
      "Running Time: 329.9713351726532 sec\n",
      "50 :\n",
      "Evaluating RMSE, MAE of algorithm NMF.\n",
      "\n",
      "------------\n",
      "Fold 1\n",
      "RMSE: 0.0011\n",
      "MAE:  0.0000\n",
      "------------\n",
      "Fold 2\n",
      "RMSE: 0.0007\n",
      "MAE:  0.0000\n",
      "------------\n",
      "Fold 3\n",
      "RMSE: 0.0020\n",
      "MAE:  0.0001\n",
      "------------\n",
      "Fold 4\n",
      "RMSE: 0.0008\n",
      "MAE:  0.0000\n",
      "------------\n",
      "Fold 5\n",
      "RMSE: 0.0005\n",
      "MAE:  0.0000\n",
      "------------\n",
      "------------\n",
      "Mean RMSE: 0.0010\n",
      "Mean MAE : 0.0000\n",
      "------------\n",
      "------------\n",
      "Running Time: 385.05415415763855 sec\n"
     ]
    }
   ],
   "source": [
    "# decide to change for time calc. only\n",
    "hyper_param =[10,20,30,40,50]\n",
    "model_perf_hyparam1 = surprise_model_base_0(positive_pair_df, 5, hyper_param)"
   ]
  },
  {
   "cell_type": "code",
   "execution_count": 28,
   "metadata": {},
   "outputs": [],
   "source": [
    "avg_mae = []\n",
    "avg_rmse = []\n",
    "for k in [str(x) for x in hyper_param]:\n",
    "    avg_mae.append(sum(model_perf_hyparam1[k][0]['mae'])/5)\n",
    "    avg_rmse.append(sum(model_perf_hyparam1[k][0]['rmse'])/5)"
   ]
  },
  {
   "cell_type": "code",
   "execution_count": 29,
   "metadata": {},
   "outputs": [
    {
     "data": {
      "text/plain": [
       "[0.015550160299411826,\n",
       " 0.0008727307581003525,\n",
       " 0.00024136074271377718,\n",
       " 3.5450063678763334e-05,\n",
       " 2.0717711202219165e-05]"
      ]
     },
     "execution_count": 29,
     "metadata": {},
     "output_type": "execute_result"
    }
   ],
   "source": [
    "avg_mae"
   ]
  },
  {
   "cell_type": "code",
   "execution_count": 30,
   "metadata": {},
   "outputs": [
    {
     "data": {
      "image/png": "[encoded data removed]",
      "text/plain": [
       "<matplotlib.figure.Figure at 0x7f130e9884e0>"
      ]
     },
     "metadata": {},
     "output_type": "display_data"
    }
   ],
   "source": [
    "plt.plot(hyper_param, avg_mae)\n",
    "plt.xlabel('number of latent factor')\n",
    "plt.ylabel('AVG_MAE')\n",
    "plt.title('Tuning the low rank k')\n",
    "\n",
    "plt.show()"
   ]
  },
  {
   "cell_type": "code",
   "execution_count": 31,
   "metadata": {},
   "outputs": [
    {
     "data": {
      "image/png": "[encoded data removed]",
      "text/plain": [
       "<matplotlib.figure.Figure at 0x7f130de442e8>"
      ]
     },
     "metadata": {},
     "output_type": "display_data"
    }
   ],
   "source": [
    "plt.plot(hyper_param, avg_rmse)\n",
    "plt.xlabel('number of latent factor')\n",
    "plt.ylabel('AVG_RMSE')\n",
    "plt.title('Tuning the low rank k')\n",
    "\n",
    "plt.show()"
   ]
  },
  {
   "cell_type": "code",
   "execution_count": 32,
   "metadata": {
    "collapsed": true
   },
   "outputs": [],
   "source": [
    "# use k = 20 latent factors below\n",
    "def nmf_imputer(df, s, bias = False):\n",
    "    #NMF input dataframe and s fold\n",
    "    # output evaluation default setting\n",
    "    sTime = time.time()\n",
    "    reader = sp.Reader(rating_scale=(0,1))\n",
    "    data = sp.Dataset.load_from_df(df[['user','traits','value']], reader)\n",
    "    data.split(s)\n",
    "    model = sp.NMF(n_factors=20, n_epochs=30, biased=bias, verbose=False)\n",
    "    # Evaluate performances of our algorithm on the dataset.\n",
    "    perf = sp.evaluate(model, data, measures=['RMSE', 'MAE'], n_jobs = -1) #root-mean-square-error, #mean-square-error\n",
    "    #sp.print_perf(perf)\n",
    "    print(\"Running Time: %s sec\" % (time.time()-sTime))\n",
    "    return perf"
   ]
  },
  {
   "cell_type": "code",
   "execution_count": 33,
   "metadata": {},
   "outputs": [
    {
     "name": "stderr",
     "output_type": "stream",
     "text": [
      "/home/ls3452/anaconda3/lib/python3.5/site-packages/surprise/evaluate.py:66: UserWarning: The evaluate() method is deprecated. Please use model_selection.cross_validate() instead.\n",
      "  'model_selection.cross_validate() instead.', UserWarning)\n",
      "/home/ls3452/anaconda3/lib/python3.5/site-packages/surprise/dataset.py:193: UserWarning: Using data.split() or using load_from_folds() without using a CV iterator is now deprecated. \n",
      "  UserWarning)\n"
     ]
    },
    {
     "name": "stdout",
     "output_type": "stream",
     "text": [
      "Evaluating RMSE, MAE of algorithm NMF.\n",
      "\n",
      "------------\n",
      "Fold 1\n",
      "RMSE: 0.0084\n",
      "MAE:  0.0007\n",
      "------------\n",
      "Fold 2\n",
      "RMSE: 0.0088\n",
      "MAE:  0.0007\n",
      "------------\n",
      "Fold 3\n",
      "RMSE: 0.0059\n",
      "MAE:  0.0003\n",
      "------------\n",
      "Fold 4\n",
      "RMSE: 0.0068\n",
      "MAE:  0.0005\n",
      "------------\n",
      "Fold 5\n",
      "RMSE: 0.0073\n",
      "MAE:  0.0005\n",
      "------------\n",
      "Fold 6\n",
      "RMSE: 0.0047\n",
      "MAE:  0.0003\n",
      "------------\n",
      "Fold 7\n",
      "RMSE: 0.0073\n",
      "MAE:  0.0005\n",
      "------------\n",
      "Fold 8\n",
      "RMSE: 0.0105\n",
      "MAE:  0.0010\n",
      "------------\n",
      "Fold 9\n",
      "RMSE: 0.0109\n",
      "MAE:  0.0014\n",
      "------------\n",
      "Fold 10\n",
      "RMSE: 0.0052\n",
      "MAE:  0.0003\n",
      "------------\n",
      "------------\n",
      "Mean RMSE: 0.0076\n",
      "Mean MAE : 0.0006\n",
      "------------\n",
      "------------\n",
      "Running Time: 541.4391641616821 sec\n"
     ]
    }
   ],
   "source": [
    "# 10 fold CV\n",
    "perf = nmf_imputer(positive_pair_df, 10)"
   ]
  },
  {
   "cell_type": "code",
   "execution_count": 37,
   "metadata": {},
   "outputs": [
    {
     "data": {
      "image/png": "[encoded data removed]",
      "text/plain": [
       "<matplotlib.figure.Figure at 0x7f130a2e3e48>"
      ]
     },
     "metadata": {},
     "output_type": "display_data"
    }
   ],
   "source": [
    "plt.plot(range(1,11), perf[\"mae\"])\n",
    "plt.xlabel('number of fold')\n",
    "plt.ylabel('MAE')\n",
    "plt.title('Imputation with 10-fold CV with MAE')\n",
    "\n",
    "plt.show()"
   ]
  },
  {
   "cell_type": "code",
   "execution_count": 38,
   "metadata": {},
   "outputs": [
    {
     "data": {
      "image/png": "[encoded data removed]",
      "text/plain": [
       "<matplotlib.figure.Figure at 0x7f130627ac88>"
      ]
     },
     "metadata": {},
     "output_type": "display_data"
    }
   ],
   "source": [
    "plt.plot(range(1,11), perf[\"rmse\"])\n",
    "plt.xlabel('number of fold')\n",
    "plt.ylabel('RMSE')\n",
    "plt.title('Imputation with 10-fold CV with RMSE')\n",
    "\n",
    "plt.show()"
   ]
  },
  {
   "cell_type": "code",
   "execution_count": 2,
   "metadata": {},
   "outputs": [
    {
     "name": "stderr",
     "output_type": "stream",
     "text": [
      "/home/ls3452/anaconda3/lib/python3.5/site-packages/numpy/lib/arraysetops.py:522: FutureWarning: elementwise comparison failed; returning scalar instead, but in the future will perform elementwise comparison\n",
      "  mask |= (ar1 == a)\n"
     ]
    }
   ],
   "source": [
    "df = pd.read_csv(\"sample.csv\",index_col='Unnamed: 0').drop_duplicates(subset = 'uuid')\n",
    "users = df['uuid'].values\n",
    "traits = [eval(x) for x in df['encodedTraits.indices'].values]\n",
    "B = nx.DiGraph()\n",
    "B.add_nodes_from(users, bipartite=0)\n",
    "B.add_nodes_from(list(range(1,5198)), bipartite=1)\n",
    "for i in range(len(users)):\n",
    "    for j in range(len(traits[i])):\n",
    "        B.add_edge(users[i], traits[i][j])\n",
    "user_traits_matrix = bipartite.matrix.biadjacency_matrix(B, users, list(range(1,5198)))\n",
    "positive_pair_df = pd.DataFrame(B.edges(), columns = ['user', 'traits'])\n",
    "positive_pair_df['value'] = 1"
   ]
  },
  {
   "cell_type": "code",
   "execution_count": null,
   "metadata": {},
   "outputs": [
    {
     "name": "stdout",
     "output_type": "stream",
     "text": [
      "Processing epoch 0\n",
      "Processing epoch 1\n",
      "Processing epoch 2\n",
      "Processing epoch 3\n",
      "Processing epoch 4\n",
      "Processing epoch 5\n",
      "Processing epoch 6\n",
      "Processing epoch 7\n",
      "Processing epoch 8\n",
      "Processing epoch 9\n",
      "Processing epoch 10\n",
      "Processing epoch 11\n",
      "Processing epoch 12\n",
      "Processing epoch 13\n",
      "Processing epoch 14\n",
      "Processing epoch 15\n",
      "Processing epoch 16\n",
      "Processing epoch 17\n",
      "Processing epoch 18\n",
      "Processing epoch 19\n",
      "Processing epoch 20\n",
      "Processing epoch 21\n",
      "Processing epoch 22\n",
      "Processing epoch 23\n",
      "Processing epoch 24\n",
      "Processing epoch 25\n",
      "Processing epoch 26\n",
      "Processing epoch 27\n",
      "Processing epoch 28\n",
      "Processing epoch 29\n"
     ]
    },
    {
     "data": {
      "text/plain": [
       "<surprise.prediction_algorithms.matrix_factorization.NMF at 0x7fd8d96cff98>"
      ]
     },
     "execution_count": 3,
     "metadata": {},
     "output_type": "execute_result"
    }
   ],
   "source": [
    "reader = sp.Reader(rating_scale=(0,1))\n",
    "data = sp.Dataset.load_from_df(positive_pair_df[['user','traits','value']], reader)\n",
    "model = sp.NMF(n_factors=20, n_epochs=30, verbose=True)\n",
    "data = data.build_full_trainset()\n",
    "model.fit(data)"
   ]
  },
  {
   "cell_type": "code",
   "execution_count": null,
   "metadata": {},
   "outputs": [],
   "source": [
    "f = open(\"NMF_imputation.txt\", \"w\")\n",
    "for u in users:\n",
    "    for i in range(1, 5198):\n",
    "        prediction = model.predict(u, i)\n",
    "        if prediction[4]['was_impossible']:\n",
    "            f.write(prediction[0] + ' ' + str(prediction[1]) + ' ' + str(prediction[3]) + '\\n')\n",
    "        else:\n",
    "            f.write(prediction[0] + ' ' + str(prediction[1]) + ' ' + str(0) + '\\n')"
   ]
  },
  {
   "cell_type": "code",
   "execution_count": null,
   "metadata": {
    "collapsed": true
   },
   "outputs": [],
   "source": [
    "f.close()"
   ]
  },
  {
   "cell_type": "code",
   "execution_count": 78,
   "metadata": {},
   "outputs": [
    {
     "data": {
      "text/plain": [
       "False"
      ]
     },
     "execution_count": 78,
     "metadata": {},
     "output_type": "execute_result"
    }
   ],
   "source": [
    "prediction[4]['was_impossible']"
   ]
  },
  {
   "cell_type": "code",
   "execution_count": null,
   "metadata": {
    "collapsed": true
   },
   "outputs": [],
   "source": []
  }
 ],
 "metadata": {
  "kernelspec": {
   "display_name": "Python 3",
   "language": "python",
   "name": "python3"
  },
  "language_info": {
   "codemirror_mode": {
    "name": "ipython",
    "version": 3
   },
   "file_extension": ".py",
   "mimetype": "text/x-python",
   "name": "python",
   "nbconvert_exporter": "python",
   "pygments_lexer": "ipython3",
   "version": "3.6.3"
  }
 },
 "nbformat": 4,
 "nbformat_minor": 1
}
