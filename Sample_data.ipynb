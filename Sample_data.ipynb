{
 "cells": [
  {
   "cell_type": "code",
   "execution_count": 31,
   "metadata": {
    "collapsed": false
   },
   "outputs": [],
   "source": [
    "import boto3\n",
    "from fastparquet import ParquetFile\n",
    "import pandas as pd\n",
    "import glob\n",
    "import os\n",
    "import random\n",
    "import numpy as np\n",
    "from scipy import sparse"
   ]
  },
  {
   "cell_type": "markdown",
   "metadata": {},
   "source": [
    "## Sampling\n",
    "random select 1 percent samples from every file with seed = 66. \n",
    "On average 5 to 6 second for each file. \n",
    "each file contains around 60000 records. total sample size = 60000 * 200"
   ]
  },
  {
   "cell_type": "code",
   "execution_count": 78,
   "metadata": {
    "collapsed": false
   },
   "outputs": [],
   "source": [
    "file_num = 0\n",
    "res = []\n",
    "for filepath in glob.glob(os.path.join('/adobe/data/', '*.snappy.parquet')):\n",
    "    df = pd.read_parquet(filepath, engine=\"fastparquet\")\n",
    "    sample = df.sample(frac=0.01, replace=False, random_state=66)\n",
    "    sample['from_file'] = file_num\n",
    "    file_num += 1\n",
    "    res.append(sample)"
   ]
  },
  {
   "cell_type": "code",
   "execution_count": null,
   "metadata": {
    "collapsed": true
   },
   "outputs": [],
   "source": [
    "df_sample = pd.concat(res)\n",
    "# df_sample.to_csv('sample.csv')"
   ]
  },
  {
   "cell_type": "code",
   "execution_count": 79,
   "metadata": {
    "collapsed": false
   },
   "outputs": [
    {
     "data": {
      "text/html": [
       "<div>\n",
       "<style scoped>\n",
       "    .dataframe tbody tr th:only-of-type {\n",
       "        vertical-align: middle;\n",
       "    }\n",
       "\n",
       "    .dataframe tbody tr th {\n",
       "        vertical-align: top;\n",
       "    }\n",
       "\n",
       "    .dataframe thead th {\n",
       "        text-align: right;\n",
       "    }\n",
       "</style>\n",
       "<table border=\"1\" class=\"dataframe\">\n",
       "  <thead>\n",
       "    <tr style=\"text-align: right;\">\n",
       "      <th></th>\n",
       "      <th>uuid</th>\n",
       "      <th>encodedTraits.type</th>\n",
       "      <th>encodedTraits.size</th>\n",
       "      <th>encodedTraits.indices</th>\n",
       "      <th>encodedTraits.values</th>\n",
       "      <th>from_file</th>\n",
       "    </tr>\n",
       "  </thead>\n",
       "  <tbody>\n",
       "    <tr>\n",
       "      <th>287463</th>\n",
       "      <td>6b86365a-981f-5ff3-976f-e0ac751c7462</td>\n",
       "      <td>0</td>\n",
       "      <td>5197</td>\n",
       "      <td>[800]</td>\n",
       "      <td>[1.0]</td>\n",
       "      <td>0</td>\n",
       "    </tr>\n",
       "    <tr>\n",
       "      <th>530642</th>\n",
       "      <td>c64eb069-0730-5e5a-bd90-0a6dd7f72ef2</td>\n",
       "      <td>0</td>\n",
       "      <td>5197</td>\n",
       "      <td>[800]</td>\n",
       "      <td>[1.0]</td>\n",
       "      <td>0</td>\n",
       "    </tr>\n",
       "    <tr>\n",
       "      <th>320119</th>\n",
       "      <td>77b0c22e-2bd0-5a34-bb73-e815c5c6ea1d</td>\n",
       "      <td>0</td>\n",
       "      <td>5197</td>\n",
       "      <td>[800]</td>\n",
       "      <td>[1.0]</td>\n",
       "      <td>0</td>\n",
       "    </tr>\n",
       "    <tr>\n",
       "      <th>304398</th>\n",
       "      <td>71d61379-f871-5244-8146-d45d919fee1f</td>\n",
       "      <td>0</td>\n",
       "      <td>5197</td>\n",
       "      <td>[800, 2268, 4199, 4265, 4284, 4413, 4929]</td>\n",
       "      <td>[1.0, 1.0, 1.0, 1.0, 1.0, 1.0, 1.0]</td>\n",
       "      <td>0</td>\n",
       "    </tr>\n",
       "    <tr>\n",
       "      <th>376875</th>\n",
       "      <td>8cfce892-a06f-5dae-8b05-fe8d3c469a82</td>\n",
       "      <td>0</td>\n",
       "      <td>5197</td>\n",
       "      <td>[800, 4265, 4283, 4413, 4855, 5186]</td>\n",
       "      <td>[1.0, 1.0, 1.0, 1.0, 1.0, 1.0]</td>\n",
       "      <td>0</td>\n",
       "    </tr>\n",
       "  </tbody>\n",
       "</table>\n",
       "</div>"
      ],
      "text/plain": [
       "                                        uuid  encodedTraits.type  \\\n",
       "287463  6b86365a-981f-5ff3-976f-e0ac751c7462                   0   \n",
       "530642  c64eb069-0730-5e5a-bd90-0a6dd7f72ef2                   0   \n",
       "320119  77b0c22e-2bd0-5a34-bb73-e815c5c6ea1d                   0   \n",
       "304398  71d61379-f871-5244-8146-d45d919fee1f                   0   \n",
       "376875  8cfce892-a06f-5dae-8b05-fe8d3c469a82                   0   \n",
       "\n",
       "        encodedTraits.size                      encodedTraits.indices  \\\n",
       "287463                5197                                      [800]   \n",
       "530642                5197                                      [800]   \n",
       "320119                5197                                      [800]   \n",
       "304398                5197  [800, 2268, 4199, 4265, 4284, 4413, 4929]   \n",
       "376875                5197        [800, 4265, 4283, 4413, 4855, 5186]   \n",
       "\n",
       "                       encodedTraits.values  from_file  \n",
       "287463                                [1.0]          0  \n",
       "530642                                [1.0]          0  \n",
       "320119                                [1.0]          0  \n",
       "304398  [1.0, 1.0, 1.0, 1.0, 1.0, 1.0, 1.0]          0  \n",
       "376875       [1.0, 1.0, 1.0, 1.0, 1.0, 1.0]          0  "
      ]
     },
     "execution_count": 79,
     "metadata": {},
     "output_type": "execute_result"
    }
   ],
   "source": [
    "res[0].head()"
   ]
  },
  {
   "cell_type": "code",
   "execution_count": 12,
   "metadata": {
    "collapsed": false
   },
   "outputs": [
    {
     "data": {
      "text/html": [
       "<div>\n",
       "<style scoped>\n",
       "    .dataframe tbody tr th:only-of-type {\n",
       "        vertical-align: middle;\n",
       "    }\n",
       "\n",
       "    .dataframe tbody tr th {\n",
       "        vertical-align: top;\n",
       "    }\n",
       "\n",
       "    .dataframe thead th {\n",
       "        text-align: right;\n",
       "    }\n",
       "</style>\n",
       "<table border=\"1\" class=\"dataframe\">\n",
       "  <thead>\n",
       "    <tr style=\"text-align: right;\">\n",
       "      <th></th>\n",
       "      <th>uuid</th>\n",
       "      <th>encodedTraits.type</th>\n",
       "      <th>encodedTraits.size</th>\n",
       "      <th>encodedTraits.indices</th>\n",
       "      <th>encodedTraits.values</th>\n",
       "      <th>from_file</th>\n",
       "    </tr>\n",
       "  </thead>\n",
       "  <tbody>\n",
       "    <tr>\n",
       "      <th>275998</th>\n",
       "      <td>6721ff5f-7795-53c6-8601-fe3cc50805c7</td>\n",
       "      <td>0</td>\n",
       "      <td>5197</td>\n",
       "      <td>[800, 4413, 4995]</td>\n",
       "      <td>[1.0, 1.0, 1.0]</td>\n",
       "      <td>1</td>\n",
       "    </tr>\n",
       "    <tr>\n",
       "      <th>299461</th>\n",
       "      <td>6fea10eb-8f9e-5805-9db1-829780699302</td>\n",
       "      <td>0</td>\n",
       "      <td>5197</td>\n",
       "      <td>[800]</td>\n",
       "      <td>[1.0]</td>\n",
       "      <td>1</td>\n",
       "    </tr>\n",
       "    <tr>\n",
       "      <th>46414</th>\n",
       "      <td>113b203f-a4d2-5c91-bd7d-abd6b623cf84</td>\n",
       "      <td>0</td>\n",
       "      <td>5197</td>\n",
       "      <td>[800, 4197, 4200, 4265, 4269, 4413, 4924, 5100...</td>\n",
       "      <td>[1.0, 1.0, 1.0, 1.0, 1.0, 1.0, 1.0, 1.0, 1.0, ...</td>\n",
       "      <td>1</td>\n",
       "    </tr>\n",
       "    <tr>\n",
       "      <th>458657</th>\n",
       "      <td>ab10a381-2c93-5705-b4d4-ec7f64a87d10</td>\n",
       "      <td>0</td>\n",
       "      <td>5197</td>\n",
       "      <td>[800, 4393, 4412, 4413, 5051]</td>\n",
       "      <td>[1.0, 1.0, 1.0, 1.0, 1.0]</td>\n",
       "      <td>1</td>\n",
       "    </tr>\n",
       "    <tr>\n",
       "      <th>176604</th>\n",
       "      <td>41da5ec2-68ce-5204-ab7b-971e8d2f6836</td>\n",
       "      <td>0</td>\n",
       "      <td>5197</td>\n",
       "      <td>[800, 4413, 4904, 4975, 5048, 5051]</td>\n",
       "      <td>[1.0, 1.0, 1.0, 1.0, 1.0, 1.0]</td>\n",
       "      <td>1</td>\n",
       "    </tr>\n",
       "  </tbody>\n",
       "</table>\n",
       "</div>"
      ],
      "text/plain": [
       "                                        uuid  encodedTraits.type  \\\n",
       "275998  6721ff5f-7795-53c6-8601-fe3cc50805c7                   0   \n",
       "299461  6fea10eb-8f9e-5805-9db1-829780699302                   0   \n",
       "46414   113b203f-a4d2-5c91-bd7d-abd6b623cf84                   0   \n",
       "458657  ab10a381-2c93-5705-b4d4-ec7f64a87d10                   0   \n",
       "176604  41da5ec2-68ce-5204-ab7b-971e8d2f6836                   0   \n",
       "\n",
       "        encodedTraits.size                              encodedTraits.indices  \\\n",
       "275998                5197                                  [800, 4413, 4995]   \n",
       "299461                5197                                              [800]   \n",
       "46414                 5197  [800, 4197, 4200, 4265, 4269, 4413, 4924, 5100...   \n",
       "458657                5197                      [800, 4393, 4412, 4413, 5051]   \n",
       "176604                5197                [800, 4413, 4904, 4975, 5048, 5051]   \n",
       "\n",
       "                                     encodedTraits.values  from_file  \n",
       "275998                                    [1.0, 1.0, 1.0]          1  \n",
       "299461                                              [1.0]          1  \n",
       "46414   [1.0, 1.0, 1.0, 1.0, 1.0, 1.0, 1.0, 1.0, 1.0, ...          1  \n",
       "458657                          [1.0, 1.0, 1.0, 1.0, 1.0]          1  \n",
       "176604                     [1.0, 1.0, 1.0, 1.0, 1.0, 1.0]          1  "
      ]
     },
     "execution_count": 12,
     "metadata": {},
     "output_type": "execute_result"
    }
   ],
   "source": [
    "res[1].head()"
   ]
  },
  {
   "cell_type": "code",
   "execution_count": 13,
   "metadata": {
    "collapsed": false
   },
   "outputs": [
    {
     "data": {
      "text/html": [
       "<div>\n",
       "<style scoped>\n",
       "    .dataframe tbody tr th:only-of-type {\n",
       "        vertical-align: middle;\n",
       "    }\n",
       "\n",
       "    .dataframe tbody tr th {\n",
       "        vertical-align: top;\n",
       "    }\n",
       "\n",
       "    .dataframe thead th {\n",
       "        text-align: right;\n",
       "    }\n",
       "</style>\n",
       "<table border=\"1\" class=\"dataframe\">\n",
       "  <thead>\n",
       "    <tr style=\"text-align: right;\">\n",
       "      <th></th>\n",
       "      <th>uuid</th>\n",
       "      <th>encodedTraits.type</th>\n",
       "      <th>encodedTraits.size</th>\n",
       "      <th>encodedTraits.indices</th>\n",
       "      <th>encodedTraits.values</th>\n",
       "      <th>from_file</th>\n",
       "    </tr>\n",
       "  </thead>\n",
       "  <tbody>\n",
       "    <tr>\n",
       "      <th>518462</th>\n",
       "      <td>c16f786f-2c36-585c-bc48-47a277fc372f</td>\n",
       "      <td>0</td>\n",
       "      <td>5197</td>\n",
       "      <td>[800]</td>\n",
       "      <td>[1.0]</td>\n",
       "      <td>2</td>\n",
       "    </tr>\n",
       "    <tr>\n",
       "      <th>178872</th>\n",
       "      <td>42971d20-1be5-5725-aa51-5f53e65b6acd</td>\n",
       "      <td>0</td>\n",
       "      <td>5197</td>\n",
       "      <td>[800]</td>\n",
       "      <td>[1.0]</td>\n",
       "      <td>2</td>\n",
       "    </tr>\n",
       "    <tr>\n",
       "      <th>41747</th>\n",
       "      <td>0f97f250-6acb-5cf0-8950-eee1bb95198b</td>\n",
       "      <td>0</td>\n",
       "      <td>5197</td>\n",
       "      <td>[800]</td>\n",
       "      <td>[1.0]</td>\n",
       "      <td>2</td>\n",
       "    </tr>\n",
       "    <tr>\n",
       "      <th>331203</th>\n",
       "      <td>7baa2b24-67ca-58fe-a5c5-beedd817e77c</td>\n",
       "      <td>0</td>\n",
       "      <td>5197</td>\n",
       "      <td>[800, 2268, 4199, 4265, 4269, 4412, 4413, 5051]</td>\n",
       "      <td>[1.0, 1.0, 1.0, 1.0, 1.0, 1.0, 1.0, 1.0]</td>\n",
       "      <td>2</td>\n",
       "    </tr>\n",
       "    <tr>\n",
       "      <th>230387</th>\n",
       "      <td>55d5ff64-5126-554b-8ad8-d1229baeaa36</td>\n",
       "      <td>0</td>\n",
       "      <td>5197</td>\n",
       "      <td>[800, 2268, 4199, 4265, 4269, 4413, 5049]</td>\n",
       "      <td>[1.0, 1.0, 1.0, 1.0, 1.0, 1.0, 1.0]</td>\n",
       "      <td>2</td>\n",
       "    </tr>\n",
       "  </tbody>\n",
       "</table>\n",
       "</div>"
      ],
      "text/plain": [
       "                                        uuid  encodedTraits.type  \\\n",
       "518462  c16f786f-2c36-585c-bc48-47a277fc372f                   0   \n",
       "178872  42971d20-1be5-5725-aa51-5f53e65b6acd                   0   \n",
       "41747   0f97f250-6acb-5cf0-8950-eee1bb95198b                   0   \n",
       "331203  7baa2b24-67ca-58fe-a5c5-beedd817e77c                   0   \n",
       "230387  55d5ff64-5126-554b-8ad8-d1229baeaa36                   0   \n",
       "\n",
       "        encodedTraits.size                            encodedTraits.indices  \\\n",
       "518462                5197                                            [800]   \n",
       "178872                5197                                            [800]   \n",
       "41747                 5197                                            [800]   \n",
       "331203                5197  [800, 2268, 4199, 4265, 4269, 4412, 4413, 5051]   \n",
       "230387                5197        [800, 2268, 4199, 4265, 4269, 4413, 5049]   \n",
       "\n",
       "                            encodedTraits.values  from_file  \n",
       "518462                                     [1.0]          2  \n",
       "178872                                     [1.0]          2  \n",
       "41747                                      [1.0]          2  \n",
       "331203  [1.0, 1.0, 1.0, 1.0, 1.0, 1.0, 1.0, 1.0]          2  \n",
       "230387       [1.0, 1.0, 1.0, 1.0, 1.0, 1.0, 1.0]          2  "
      ]
     },
     "execution_count": 13,
     "metadata": {},
     "output_type": "execute_result"
    }
   ],
   "source": [
    "res[2].head()"
   ]
  },
  {
   "cell_type": "markdown",
   "metadata": {},
   "source": [
    "## Convert dataframe to matrix\n",
    "the following function takes a dataframe and transforms it to user-traits matrix in sparse format. "
   ]
  },
  {
   "cell_type": "code",
   "execution_count": 73,
   "metadata": {
    "collapsed": true
   },
   "outputs": [],
   "source": [
    "def form_matrix(df):\n",
    "    M, N = df.shape[0], 5197\n",
    "    d = res[0].set_index('uuid')['encodedTraits.indices'].to_dict()\n",
    "    matrix = sparse.lil_matrix((M, N))\n",
    "    row_names = np.array(list(d.keys()))\n",
    "    for k in d:\n",
    "        row_idx, = np.where(row_names == k)\n",
    "        for v in d[k]:\n",
    "            matrix[row_idx[0], v] = 1\n",
    "    return matrix"
   ]
  },
  {
   "cell_type": "code",
   "execution_count": 74,
   "metadata": {
    "collapsed": false
   },
   "outputs": [],
   "source": [
    "matrix = form_matrix(res[0])"
   ]
  },
  {
   "cell_type": "code",
   "execution_count": 75,
   "metadata": {
    "collapsed": false
   },
   "outputs": [
    {
     "data": {
      "text/plain": [
       "<6855x5197 sparse matrix of type '<class 'numpy.float64'>'\n",
       "\twith 65220 stored elements in LInked List format>"
      ]
     },
     "execution_count": 75,
     "metadata": {},
     "output_type": "execute_result"
    }
   ],
   "source": [
    "matrix"
   ]
  },
  {
   "cell_type": "code",
   "execution_count": null,
   "metadata": {
    "collapsed": true
   },
   "outputs": [],
   "source": []
  }
 ],
 "metadata": {
  "anaconda-cloud": {},
  "kernelspec": {
   "display_name": "Python [Root]",
   "language": "python",
   "name": "Python [Root]"
  },
  "language_info": {
   "codemirror_mode": {
    "name": "ipython",
    "version": 3
   },
   "file_extension": ".py",
   "mimetype": "text/x-python",
   "name": "python",
   "nbconvert_exporter": "python",
   "pygments_lexer": "ipython3",
   "version": "3.5.2"
  }
 },
 "nbformat": 4,
 "nbformat_minor": 2
}
